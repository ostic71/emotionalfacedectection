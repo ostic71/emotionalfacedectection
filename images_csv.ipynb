{
 "cells": [
  {
   "cell_type": "markdown",
   "metadata": {},
   "source": [
    "# CONVERT ALL IMAGES FROM A FOLDER TO A MATRIX SIZE 48*48 AND PUT THEM INTO CSV FILE WITH THE LABEL"
   ]
  },
  {
   "cell_type": "code",
   "execution_count": 7,
   "metadata": {},
   "outputs": [],
   "source": [
    "import os\n",
    "import cv2\n",
    "import pandas as pd\n",
    "\n",
    "def convert_images_to_csv(folder_path, csv_filename, label=0, target_size=(48, 48)):\n",
    "    images = []\n",
    "    labels = []\n",
    "    \n",
    "    i = 0\n",
    "    for filename in os.listdir(folder_path):\n",
    "        path = os.path.join(folder_path, filename)\n",
    "        img = cv2.imread(path, cv2.IMREAD_GRAYSCALE)  \n",
    "        if img is not None:\n",
    "            img = cv2.resize(img, target_size) \n",
    "            images.append(img.flatten())\n",
    "            labels.append(label)\n",
    "        if i == 1000:\n",
    "            break\n",
    "        else:\n",
    "            i += 1\n",
    "\n",
    "    data = {'label': labels}\n",
    "    for i in range(len(images[0])):\n",
    "        data[f'pixel_{i+1}'] = [row[i] for row in images]\n",
    "\n",
    "    df = pd.DataFrame(data)\n",
    "    df.to_csv(csv_filename, index=False)\n",
    "    \n",
    "\n",
    "if __name__ == \"__main__\":\n",
    "\n",
    "    labels = {\n",
    "    \"angry\": 0,\n",
    "    \"fear\": 1,\n",
    "    \"happy\": 2,\n",
    "    \"neutral\": 3,\n",
    "    \"sad\": 4\n",
    "    }\n",
    "    #THAY LẦN LƯỢT TÊN FOLDER VÀ LABLE\n",
    "    folder_path = \"processed_image/neutral\"\n",
    "    csv_filename = \"csv/neutral.csv\"\n",
    "    convert_images_to_csv(folder_path, csv_filename, label=labels[\"neutral\"])  "
   ]
  },
  {
   "cell_type": "code",
   "execution_count": 1,
   "metadata": {},
   "outputs": [
    {
     "ename": "FileNotFoundError",
     "evalue": "[WinError 3] The system cannot find the path specified: 'images\\\\Angry'",
     "output_type": "error",
     "traceback": [
      "\u001b[1;31m---------------------------------------------------------------------------\u001b[0m",
      "\u001b[1;31mFileNotFoundError\u001b[0m                         Traceback (most recent call last)",
      "Cell \u001b[1;32mIn[1], line 43\u001b[0m\n\u001b[0;32m     41\u001b[0m folder_path \u001b[38;5;241m=\u001b[39m os\u001b[38;5;241m.\u001b[39mpath\u001b[38;5;241m.\u001b[39mjoin(images_folder, label_name\u001b[38;5;241m.\u001b[39mcapitalize())\n\u001b[0;32m     42\u001b[0m csv_filename \u001b[38;5;241m=\u001b[39m os\u001b[38;5;241m.\u001b[39mpath\u001b[38;5;241m.\u001b[39mjoin(output_folder, \u001b[38;5;124mf\u001b[39m\u001b[38;5;124m\"\u001b[39m\u001b[38;5;132;01m{\u001b[39;00mlabel_name\u001b[38;5;241m.\u001b[39mlower()\u001b[38;5;132;01m}\u001b[39;00m\u001b[38;5;124m.csv\u001b[39m\u001b[38;5;124m\"\u001b[39m)\n\u001b[1;32m---> 43\u001b[0m \u001b[43mconvert_images_to_csv\u001b[49m\u001b[43m(\u001b[49m\u001b[43mfolder_path\u001b[49m\u001b[43m,\u001b[49m\u001b[43m \u001b[49m\u001b[43mcsv_filename\u001b[49m\u001b[43m,\u001b[49m\u001b[43m \u001b[49m\u001b[43mlabels_mapping\u001b[49m\u001b[43m)\u001b[49m\n",
      "Cell \u001b[1;32mIn[1], line 11\u001b[0m, in \u001b[0;36mconvert_images_to_csv\u001b[1;34m(folder_path, csv_filename, label_mapping, target_size)\u001b[0m\n\u001b[0;32m      7\u001b[0m labels \u001b[38;5;241m=\u001b[39m []\n\u001b[0;32m      9\u001b[0m label \u001b[38;5;241m=\u001b[39m label_mapping[os\u001b[38;5;241m.\u001b[39mpath\u001b[38;5;241m.\u001b[39mbasename(folder_path)\u001b[38;5;241m.\u001b[39mlower()]\n\u001b[1;32m---> 11\u001b[0m \u001b[38;5;28;01mfor\u001b[39;00m filename \u001b[38;5;129;01min\u001b[39;00m \u001b[43mos\u001b[49m\u001b[38;5;241;43m.\u001b[39;49m\u001b[43mlistdir\u001b[49m\u001b[43m(\u001b[49m\u001b[43mfolder_path\u001b[49m\u001b[43m)\u001b[49m:\n\u001b[0;32m     12\u001b[0m     path \u001b[38;5;241m=\u001b[39m os\u001b[38;5;241m.\u001b[39mpath\u001b[38;5;241m.\u001b[39mjoin(folder_path, filename)\n\u001b[0;32m     13\u001b[0m     img \u001b[38;5;241m=\u001b[39m cv2\u001b[38;5;241m.\u001b[39mimread(path, cv2\u001b[38;5;241m.\u001b[39mIMREAD_GRAYSCALE)\n",
      "\u001b[1;31mFileNotFoundError\u001b[0m: [WinError 3] The system cannot find the path specified: 'images\\\\Angry'"
     ]
    }
   ],
   "source": [
    "import os\n",
    "import cv2\n",
    "import pandas as pd\n",
    "\n",
    "def convert_images_to_csv(folder_path, csv_filename, label_mapping, target_size=(48, 48)):\n",
    "    images = []\n",
    "    labels = []\n",
    "\n",
    "    label = label_mapping[os.path.basename(folder_path).lower()]\n",
    "\n",
    "    for filename in os.listdir(folder_path):\n",
    "        path = os.path.join(folder_path, filename)\n",
    "        img = cv2.imread(path, cv2.IMREAD_GRAYSCALE)\n",
    "        if img is not None:\n",
    "            img = cv2.resize(img, target_size)\n",
    "            images.append(img.flatten())\n",
    "            labels.append(label)\n",
    "        \n",
    "\n",
    "    data = {'label': labels}\n",
    "    for i in range(len(images[0])):\n",
    "        data[f'pixel_{i + 1}'] = [row[i] for row in images]\n",
    "\n",
    "    df = pd.DataFrame(data)\n",
    "    df.to_csv(csv_filename, index=False)\n",
    "\n",
    "\n",
    "if __name__ == \"__main__\":\n",
    "    labels_mapping = {\n",
    "        \"angry\": 0,\n",
    "        \"fear\": 1,\n",
    "        \"happy\": 2,\n",
    "        \"neutral\": 3,\n",
    "        \"sad\": 4\n",
    "    }\n",
    "\n",
    "    images_folder = \"image\"\n",
    "    output_folder = \"processed_image\"\n",
    "\n",
    "    for label_name in labels_mapping.keys():\n",
    "        folder_path = os.path.join(images_folder, label_name.capitalize())\n",
    "        csv_filename = os.path.join(output_folder, f\"{label_name.lower()}.csv\")\n",
    "        convert_images_to_csv(folder_path, csv_filename, labels_mapping)\n"
   ]
  },
  {
   "cell_type": "markdown",
   "metadata": {},
   "source": [
    "GATHER ALL CSV FILES INTO A FILE"
   ]
  },
  {
   "cell_type": "code",
   "execution_count": 8,
   "metadata": {},
   "outputs": [],
   "source": [
    "import pandas as pd\n",
    "import glob\n",
    "\n",
    "folder_path = 'csv'\n",
    "\n",
    "all_files = glob.glob(folder_path + \"/*.csv\")\n",
    "\n",
    "dfs = []\n",
    "\n",
    "for file in all_files:\n",
    "    df = pd.read_csv(file)\n",
    "    dfs.append(df)\n",
    "\n",
    "merged_df = pd.concat(dfs, ignore_index=True)\n",
    "\n",
    "merged_df.to_csv('dataset.csv', index=False)\n"
   ]
  }
 ],
 "metadata": {
  "kernelspec": {
   "display_name": "Python 3",
   "language": "python",
   "name": "python3"
  },
  "language_info": {
   "codemirror_mode": {
    "name": "ipython",
    "version": 3
   },
   "file_extension": ".py",
   "mimetype": "text/x-python",
   "name": "python",
   "nbconvert_exporter": "python",
   "pygments_lexer": "ipython3",
   "version": "3.11.9"
  }
 },
 "nbformat": 4,
 "nbformat_minor": 2
}
