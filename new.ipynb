{
 "cells": [
  {
   "cell_type": "code",
   "execution_count": 12,
   "metadata": {},
   "outputs": [],
   "source": [
    "img = cv2. imread(path, cv2. IMREAD_GRAYSCALE)\n",
    "if img is not None:\n",
    "img = cv2. resizeßimg,\n",
    "# Tinh toån däc trtrng HOG\n",
    "hog_features = feature. hog( img, orientations=9, 8) ,\n",
    "2), L2—Hys ,\n",
    "visualize=FaIse, transform_sqrt=True)\n",
    "scaler = MinMaxScaIer()\n",
    "pred = model. predict( [hog_features] )\n",
    "print (p red)"
   ]
  }
 ],
 "metadata": {
  "kernelspec": {
   "display_name": "Python 3",
   "language": "python",
   "name": "python3"
  },
  "language_info": {
   "codemirror_mode": {
    "name": "ipython",
    "version": 3
   },
   "file_extension": ".py",
   "mimetype": "text/x-python",
   "name": "python",
   "nbconvert_exporter": "python",
   "pygments_lexer": "ipython3",
   "version": "3.11.9"
  }
 },
 "nbformat": 4,
 "nbformat_minor": 2
}
