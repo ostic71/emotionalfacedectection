{
 "cells": [
  {
   "cell_type": "code",
   "execution_count": null,
   "metadata": {},
   "outputs": [],
   "source": [
    "import gradio as gr\n",
    "import numpy as np\n",
    "from PIL import Image\n",
    "from joblib import load\n",
    "import dlib\n",
    "from skimage import feature\n",
    "\n",
    "model = load('svm_model_96_hog.h5')\n",
    "\n",
    "emotion_labels = {\n",
    "    0: \"Angry\",\n",
    "    1: \"Fear\",\n",
    "    2: \"Happy\",\n",
    "    3: \"Neutral\",\n",
    "    4: \"Sad\",\n",
    "}\n",
    "\n",
    "# Sử dụng thư viện dlib để phát hiện khuôn mặt\n",
    "detector = dlib.get_frontal_face_detector()\n",
    "\n",
    "def predict_emotion(image):\n",
    "   \n",
    "     # Chuyển ảnh về numpy array\n",
    "    img_array = np.array(image)\n",
    "\n",
    "    # Convert về ảnh xám và resize về kích thước 48x48\n",
    "    processed_image = Image.fromarray(img_array).convert('L').resize((96, 96))\n",
    "\n",
    "    hog_features = feature.hog(processed_image, orientations=9, pixels_per_cell=(8, 8),\n",
    "                                       cells_per_block=(2, 2), block_norm='L2-Hys',\n",
    "                                       visualize=False, transform_sqrt=True)\n",
    "\n",
    "     # Chuyển ảnh về numpy array\n",
    "    img_array1 = np.array(hog_features)\n",
    "\n",
    "    flattened_img = img_array1.flatten().reshape(1, -1)\n",
    "\n",
    "    # Dự đoán nhãn của ảnh\n",
    "    prediction = model.predict(flattened_img)[0]\n",
    "\n",
    "    # Phát hiện khuôn mặt trong ảnh\n",
    "    faces = detector(img_array, 1)\n",
    "    \n",
    "    if len(faces) == 0:\n",
    "        cropped_face = img_array\n",
    "    else:\n",
    "        # Cắt khuôn mặt từ ảnh gốc\n",
    "        x, y, w, h = faces[0].left(), faces[0].top(), faces[0].width()+10, faces[0].height()+10\n",
    "        cropped_face = img_array[y:y+h, x:x+w]\n",
    "\n",
    "    return emotion_labels[prediction], cropped_face\n",
    "\n",
    "\n",
    "iface = gr.Interface(\n",
    "    fn=predict_emotion,\n",
    "    inputs=\"image\",\n",
    "    outputs=[\"text\", \"image\"],  \n",
    "    title=\"Emotion Detection\",\n",
    "    description=\"Tải lên một ảnh để nhận dạng cảm xúc.\",\n",
    "    allow_flagging= False,\n",
    ")\n",
    "\n",
    "iface.launch(share = True)"
   ]
  },
  {
   "cell_type": "code",
   "execution_count": null,
   "metadata": {},
   "outputs": [
    {
     "name": "stdout",
     "output_type": "stream",
     "text": [
      "Running on local URL:  http://127.0.0.1:7877\n",
      "\n",
      "To create a public link, set `share=True` in `launch()`.\n"
     ]
    },
    {
     "data": {
      "text/html": [
       "<div><iframe src=\"http://127.0.0.1:7877/\" width=\"100%\" height=\"500\" allow=\"autoplay; camera; microphone; clipboard-read; clipboard-write;\" frameborder=\"0\" allowfullscreen></iframe></div>"
      ],
      "text/plain": [
       "<IPython.core.display.HTML object>"
      ]
     },
     "metadata": {},
     "output_type": "display_data"
    },
    {
     "data": {
      "text/plain": []
     },
     "execution_count": 23,
     "metadata": {},
     "output_type": "execute_result"
    },
    {
     "name": "stdout",
     "output_type": "stream",
     "text": [
      "IMPORTANT: You are using gradio version 4.14.0, however version 4.29.0 is available, please upgrade.\n",
      "--------\n",
      "(900,)\n"
     ]
    },
    {
     "name": "stderr",
     "output_type": "stream",
     "text": [
      "/var/folders/7w/66wzp64d641dgfzh2ypn7_xw0000gn/T/ipykernel_76323/3171783651.py:37: DeprecationWarning: Conversion of an array with ndim > 0 to a scalar is deprecated, and will error in future. Ensure you extract a single element from your array before performing this operation. (Deprecated NumPy 1.25.)\n",
      "  return emotion_labels[int(prediction)]\n"
     ]
    },
    {
     "name": "stdout",
     "output_type": "stream",
     "text": [
      "(900,)\n"
     ]
    },
    {
     "name": "stderr",
     "output_type": "stream",
     "text": [
      "/var/folders/7w/66wzp64d641dgfzh2ypn7_xw0000gn/T/ipykernel_76323/3171783651.py:37: DeprecationWarning: Conversion of an array with ndim > 0 to a scalar is deprecated, and will error in future. Ensure you extract a single element from your array before performing this operation. (Deprecated NumPy 1.25.)\n",
      "  return emotion_labels[int(prediction)]\n"
     ]
    },
    {
     "name": "stdout",
     "output_type": "stream",
     "text": [
      "(900,)\n"
     ]
    },
    {
     "name": "stderr",
     "output_type": "stream",
     "text": [
      "/var/folders/7w/66wzp64d641dgfzh2ypn7_xw0000gn/T/ipykernel_76323/3171783651.py:37: DeprecationWarning: Conversion of an array with ndim > 0 to a scalar is deprecated, and will error in future. Ensure you extract a single element from your array before performing this operation. (Deprecated NumPy 1.25.)\n",
      "  return emotion_labels[int(prediction)]\n"
     ]
    },
    {
     "name": "stdout",
     "output_type": "stream",
     "text": [
      "(900,)\n"
     ]
    },
    {
     "name": "stderr",
     "output_type": "stream",
     "text": [
      "/var/folders/7w/66wzp64d641dgfzh2ypn7_xw0000gn/T/ipykernel_76323/3171783651.py:37: DeprecationWarning: Conversion of an array with ndim > 0 to a scalar is deprecated, and will error in future. Ensure you extract a single element from your array before performing this operation. (Deprecated NumPy 1.25.)\n",
      "  return emotion_labels[int(prediction)]\n"
     ]
    },
    {
     "name": "stdout",
     "output_type": "stream",
     "text": [
      "(900,)\n",
      "(900,)\n"
     ]
    },
    {
     "name": "stderr",
     "output_type": "stream",
     "text": [
      "/var/folders/7w/66wzp64d641dgfzh2ypn7_xw0000gn/T/ipykernel_76323/3171783651.py:37: DeprecationWarning: Conversion of an array with ndim > 0 to a scalar is deprecated, and will error in future. Ensure you extract a single element from your array before performing this operation. (Deprecated NumPy 1.25.)\n",
      "  return emotion_labels[int(prediction)]\n",
      "/var/folders/7w/66wzp64d641dgfzh2ypn7_xw0000gn/T/ipykernel_76323/3171783651.py:37: DeprecationWarning: Conversion of an array with ndim > 0 to a scalar is deprecated, and will error in future. Ensure you extract a single element from your array before performing this operation. (Deprecated NumPy 1.25.)\n",
      "  return emotion_labels[int(prediction)]\n"
     ]
    },
    {
     "name": "stdout",
     "output_type": "stream",
     "text": [
      "(900,)\n"
     ]
    },
    {
     "name": "stderr",
     "output_type": "stream",
     "text": [
      "/var/folders/7w/66wzp64d641dgfzh2ypn7_xw0000gn/T/ipykernel_76323/3171783651.py:37: DeprecationWarning: Conversion of an array with ndim > 0 to a scalar is deprecated, and will error in future. Ensure you extract a single element from your array before performing this operation. (Deprecated NumPy 1.25.)\n",
      "  return emotion_labels[int(prediction)]\n"
     ]
    },
    {
     "name": "stdout",
     "output_type": "stream",
     "text": [
      "(900,)\n"
     ]
    },
    {
     "name": "stderr",
     "output_type": "stream",
     "text": [
      "/var/folders/7w/66wzp64d641dgfzh2ypn7_xw0000gn/T/ipykernel_76323/3171783651.py:37: DeprecationWarning: Conversion of an array with ndim > 0 to a scalar is deprecated, and will error in future. Ensure you extract a single element from your array before performing this operation. (Deprecated NumPy 1.25.)\n",
      "  return emotion_labels[int(prediction)]\n"
     ]
    },
    {
     "name": "stdout",
     "output_type": "stream",
     "text": [
      "(900,)\n"
     ]
    },
    {
     "name": "stderr",
     "output_type": "stream",
     "text": [
      "/var/folders/7w/66wzp64d641dgfzh2ypn7_xw0000gn/T/ipykernel_76323/3171783651.py:37: DeprecationWarning: Conversion of an array with ndim > 0 to a scalar is deprecated, and will error in future. Ensure you extract a single element from your array before performing this operation. (Deprecated NumPy 1.25.)\n",
      "  return emotion_labels[int(prediction)]\n"
     ]
    },
    {
     "name": "stdout",
     "output_type": "stream",
     "text": [
      "(900,)\n"
     ]
    },
    {
     "name": "stderr",
     "output_type": "stream",
     "text": [
      "/var/folders/7w/66wzp64d641dgfzh2ypn7_xw0000gn/T/ipykernel_76323/3171783651.py:37: DeprecationWarning: Conversion of an array with ndim > 0 to a scalar is deprecated, and will error in future. Ensure you extract a single element from your array before performing this operation. (Deprecated NumPy 1.25.)\n",
      "  return emotion_labels[int(prediction)]\n"
     ]
    },
    {
     "name": "stdout",
     "output_type": "stream",
     "text": [
      "(900,)\n"
     ]
    },
    {
     "name": "stderr",
     "output_type": "stream",
     "text": [
      "/var/folders/7w/66wzp64d641dgfzh2ypn7_xw0000gn/T/ipykernel_76323/3171783651.py:37: DeprecationWarning: Conversion of an array with ndim > 0 to a scalar is deprecated, and will error in future. Ensure you extract a single element from your array before performing this operation. (Deprecated NumPy 1.25.)\n",
      "  return emotion_labels[int(prediction)]\n"
     ]
    }
   ],
   "source": [
    "import cv2\n",
    "import gradio as gr\n",
    "from skimage import feature\n",
    "import numpy as np\n",
    "from PIL import Image\n",
    "from joblib import load\n",
    "import dlib\n",
    "\n",
    "emotion_labels = {\n",
    "    0: \"Angry\",\n",
    "    1: \"Fear\",\n",
    "    2: \"Happy\",\n",
    "    3: \"Neutral\",\n",
    "    4: \"Sad\",\n",
    "}\n",
    "\n",
    "# Giả sử mô hình của bạn là model và đã được load\n",
    "model = load(\"svm_model_hog48.h5\")\n",
    "\n",
    "# Sử dụng thư viện dlib để phát hiện khuôn mặt\n",
    "detector = dlib.get_frontal_face_detector()\n",
    "\n",
    "def preprocess_image(image):\n",
    "\n",
    "    # Convert to grayscale\n",
    "    gray = cv2.cvtColor(image, cv2.COLOR_BGR2GRAY)\n",
    "    # Resize the image to 96x96\n",
    "    resized = cv2.resize(gray, (48, 48))\n",
    "    # Compute HOG features\n",
    "    hog_features = feature.hog(resized, orientations=9, pixels_per_cell=(8, 8),\n",
    "                               cells_per_block=(2, 2), block_norm='L2-Hys',\n",
    "                               visualize=False, transform_sqrt=True)\n",
    "    print(hog_features.shape)\n",
    "    return hog_features\n",
    "\n",
    "def predict(image):\n",
    "    # Preprocess the input image\n",
    "    features = preprocess_image(image)\n",
    "    # Predict using the model (replace this with your model's actual prediction method)\n",
    "    prediction = model.predict([features])\n",
    "    return emotion_labels[int(prediction)]\n",
    "\n",
    "# Setup the Gradio interface\n",
    "iface = gr.Interface(fn=predict, inputs=gr.Image(), outputs=\"text\", title=\"Image Prediction\")\n",
    "iface.launch()\n"
   ]
  }
 ],
 "metadata": {
  "kernelspec": {
   "display_name": "Python 3",
   "language": "python",
   "name": "python3"
  },
  "language_info": {
   "codemirror_mode": {
    "name": "ipython",
    "version": 3
   },
   "file_extension": ".py",
   "mimetype": "text/x-python",
   "name": "python",
   "nbconvert_exporter": "python",
   "pygments_lexer": "ipython3",
   "version": "3.11.4"
  }
 },
 "nbformat": 4,
 "nbformat_minor": 2
}
